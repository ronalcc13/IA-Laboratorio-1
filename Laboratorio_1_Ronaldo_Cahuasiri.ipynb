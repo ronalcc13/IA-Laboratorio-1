{
  "nbformat": 4,
  "nbformat_minor": 0,
  "metadata": {
    "colab": {
      "provenance": []
    },
    "kernelspec": {
      "name": "python3",
      "display_name": "Python 3"
    },
    "language_info": {
      "name": "python"
    }
  },
  "cells": [
    {
      "cell_type": "code",
      "metadata": {
        "id": "mIM3MHD6oWwH"
      },
      "source": [
        "import os  # Importamos el módulo os para interactuar con el sistema operativo\n",
        "import numpy as np  # Importamos numpy para operaciones numéricas eficientes\n",
        "from matplotlib import pyplot  # Importamos pyplot de matplotlib para visualización de datos\n"
      ],
      "execution_count": 5,
      "outputs": []
    },
    {
      "cell_type": "code",
      "metadata": {
        "id": "8fqXopw1owNd",
        "colab": {
          "base_uri": "https://localhost:8080/"
        },
        "outputId": "7494206d-2b76-485c-b525-c72f38ca2a3a"
      },
      "source": [
        "\n",
        "# Leer datos\n",
        "data = np.genfromtxt('UltimoGoogleplaystore.csv', delimiter=',', skip_header=1, dtype=str)\n",
        "print(data[:10])\n",
        "\n"
      ],
      "execution_count": 7,
      "outputs": [
        {
          "output_type": "stream",
          "name": "stdout",
          "text": [
            "[['4.1' '159' '19' '10.00' '0' '0' '2018' '4' '' '']\n",
            " ['3.9' '967' '14' '500.00' '0' '0' '2018' '4' '' '']\n",
            " ['4.7' '87510' '8.7' '5000000' '0' '0' '2018' '4' '' '']\n",
            " ['4.5' '215644' '25' '50000000' '0' '0' '2018' '4' '' '']\n",
            " ['4.3' '967' '2.8' '100.00' '0' '0' '2018' '4' '' '']\n",
            " ['4.4' '167' '5.6' '50.00' '0' '0' '2017' '2' '' '']\n",
            " ['3.8' '178' '19' '50.00' '0' '0' '2018' '4' '' '']\n",
            " ['4.1' '36815' '29' '1000000' '0' '0' '2018' '4' '' '']\n",
            " ['4.4' '13791' '33' '1000000' '0' '0' '2017' '3' '' '']\n",
            " ['4.7' '121' '3.1' '10.00' '0' '0' '2018' '4' '' '']]\n"
          ]
        }
      ]
    },
    {
      "cell_type": "code",
      "metadata": {
        "id": "ZM27RFoseRhP"
      },
      "source": [
        "# Normalizar las características con la ecuacion de la clase\n",
        "def normalizarCaracteristicas(X):\n",
        "    X_norm = X.copy()\n",
        "    mu = np.mean(X, axis=0)\n",
        "    sigma = np.std(X, axis=0)\n",
        "    X_norm = (X - mu) / sigma\n",
        "    return X_norm, mu, sigma\n"
      ],
      "execution_count": null,
      "outputs": []
    },
    {
      "cell_type": "code",
      "source": [
        "# Se Agrega una columna de unos para el término de sesgo\n",
        "# Se elimina una fila con los con valores faltantes\n",
        "data[data == ''] = '0'  # Reemplaza las cadenas vacías con '0'\n",
        "X = data[:, 1:].astype(float)\n",
        "X_norm, mu, sigma = normalizarCaracteristicas(X)\n",
        "m = len(X_norm)\n",
        "X_ready = np.concatenate([np.ones((m, 1)), X_norm], axis=1)\n"
      ],
      "metadata": {
        "id": "Csc40roubBaW"
      },
      "execution_count": null,
      "outputs": []
    },
    {
      "cell_type": "code",
      "metadata": {
        "id": "FXDh9ijIo1tB"
      },
      "source": [
        "# Normalizamos las características\n",
        "def normalizarCaracteristicas(X):\n",
        "    X_norm = X.copy()\n",
        "    mu = np.mean(X, axis=0)\n",
        "    sigma = np.std(X, axis=0)\n",
        "    X_norm = (X - mu) / sigma\n",
        "    return X_norm, mu, sigma\n"
      ],
      "execution_count": null,
      "outputs": []
    },
    {
      "cell_type": "code",
      "metadata": {
        "id": "Dh-iI6OTqU6-"
      },
      "source": [
        "# Agregamos una columna de unos para el término de sesgo\n",
        "X = data[:, 1:].astype(float)\n",
        "X_norm, mu, sigma = normalizarCaracteristicas(X)\n",
        "m = len(X_norm)\n",
        "X_ready = np.concatenate([np.ones((m, 1)), X_norm], axis=1)\n"
      ],
      "execution_count": null,
      "outputs": []
    },
    {
      "cell_type": "code",
      "source": [
        "y = data[:, 0].astype(float)\n"
      ],
      "metadata": {
        "id": "i5iikYJDdNYF"
      },
      "execution_count": null,
      "outputs": []
    },
    {
      "cell_type": "code",
      "metadata": {
        "id": "XFuj2xYOq8Rk"
      },
      "source": [
        "# Calcular el costo y aplicar el descenso de gradiente\n",
        "def calcularCosto(X, y, theta):\n",
        "    m = y.size\n",
        "    J = 0\n",
        "    h = np.dot(X, theta)\n",
        "    J = (1/(2 * m)) * np.sum(np.square(h - y))\n",
        "    return J"
      ],
      "execution_count": null,
      "outputs": []
    },
    {
      "cell_type": "code",
      "metadata": {
        "id": "jkVjRskgrJd2"
      },
      "source": [
        "def calcularDescensoGradiente(X, y, theta, alpha, num_iter):\n",
        "    m = y.shape[0]\n",
        "    theta = theta.copy()\n",
        "    J_historico = []\n",
        "\n",
        "    for i in range(num_iter):\n",
        "        theta = theta - (alpha / m) * np.dot(X.T, (np.dot(X, theta) - y))\n",
        "        J_historico.append(calcularCosto(X, y, theta))\n",
        "\n",
        "    return theta, J_historico\n",
        "\n",
        "# theta = np.zeros(3)  # Inicializamos theta\n",
        "theta = np.zeros(X_ready.shape[1])\n",
        "\n",
        "\n",
        "alpha = 0.01          # Tasa de aprendizaje\n",
        "num_iter = 400        # Número de iteraciones\n",
        "\n",
        "theta, J_historico = calcularDescensoGradiente(X_ready, y, theta, alpha, num_iter)\n"
      ],
      "execution_count": null,
      "outputs": []
    },
    {
      "cell_type": "code",
      "metadata": {
        "id": "iDWldqUVwYwK",
        "colab": {
          "base_uri": "https://localhost:8080/",
          "height": 449
        },
        "outputId": "7db491f6-f556-4d6e-c481-018067197141"
      },
      "source": [
        "# Funcion para graficar la convergencia del costo\n",
        "import matplotlib.pyplot as plt\n",
        "\n",
        "plt.plot(np.arange(len(J_historico)), J_historico, lw=2)\n",
        "plt.xlabel('Número de iteraciones')\n",
        "plt.ylabel('Costo J')\n",
        "plt.show()\n"
      ],
      "execution_count": null,
      "outputs": [
        {
          "output_type": "display_data",
          "data": {
            "text/plain": [
              "<Figure size 640x480 with 1 Axes>"
            ],
            "image/png": "[encoded data removed]"
          },
          "metadata": {}
        }
      ]
    },
    {
      "cell_type": "code",
      "metadata": {
        "id": "HqtBZGFex0uR"
      },
      "source": [
        "#Calculamos la Normal\n",
        "def calcularThethaEcuacionNormal(X, y):\n",
        "    theta = np.zeros(X.shape[1])\n",
        "    theta = np.dot(np.dot(np.linalg.inv(np.dot(X.T,X)),X.T),y)\n",
        "    return theta"
      ],
      "execution_count": null,
      "outputs": []
    },
    {
      "cell_type": "code",
      "metadata": {
        "id": "ymTwiKnBzVk1"
      },
      "source": [
        "# Hacemos la predicciones\n",
        "X_pred = np.array(X_pred)  # Convertir a un array de numpy\n",
        "X_pred = X_pred.reshape(1, -1)  # Ajustar la forma para que sea un vector fila\n",
        "\n",
        "# Aseguramos de que theta tenga la forma adecuada\n",
        "theta = theta[:X_pred.shape[1]]\n",
        "\n",
        "rating_predicho = np.dot(X_pred, theta)\n"
      ],
      "execution_count": null,
      "outputs": []
    },
    {
      "cell_type": "code",
      "metadata": {
        "colab": {
          "base_uri": "https://localhost:8080/"
        },
        "id": "XVLJEATe0fiS",
        "outputId": "7fa0a7fb-608b-4669-95e6-bc9c628440a2"
      },
      "source": [
        "print(f\"Rating predicho para una aplicación con 2305 reviews y tamaño 4: {rating_predicho}\")"
      ],
      "execution_count": null,
      "outputs": [
        {
          "output_type": "stream",
          "name": "stdout",
          "text": [
            "Rating predicho para una aplicación con 2305 reviews y tamaño 4: [135.7637706]\n"
          ]
        }
      ]
    }
  ]
}